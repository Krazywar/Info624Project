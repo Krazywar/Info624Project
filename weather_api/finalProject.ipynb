{
 "cells": [
  {
   "cell_type": "markdown",
   "id": "martial-monitor",
   "metadata": {},
   "source": [
    "### INFO 624 Final Project:\n",
    "   #### IR website with elastic search and skiing website \n",
    "   - https://www.myweather2.com/developer/apis.aspx?uref=f8add9ec-fe95-4001-b822-df8680e49dce![image.png](attachment:image.png)\n",
    "   - https://www.myweather2.com/ski-resorts.aspx\n",
    "   ------\n",
    "   - possible queries:\n",
    "   "
   ]
  },
  {
   "cell_type": "code",
   "execution_count": 6,
   "id": "american-czech",
   "metadata": {},
   "outputs": [],
   "source": [
    "from elasticsearch import Elasticsearch, helpers; from bs4 import BeautifulSoup\n",
    "import json, requests, csv, sys, os, re, collections, webbrowser\n",
    "from collections import OrderedDict"
   ]
  },
  {
   "cell_type": "code",
   "execution_count": null,
   "id": "instant-train",
   "metadata": {},
   "outputs": [],
   "source": []
  },
  {
   "cell_type": "code",
   "execution_count": 80,
   "id": "found-literacy",
   "metadata": {},
   "outputs": [],
   "source": [
    "resort_towns = ['Vail,CO','Beaver Creek,CO','Breckenridge,CO','Keystone,CO','Crested Butte,CO',\n",
    " 'Park City,UT','Heavenly, CA/NV','Northstar,CA','Kirkwood,CA','Stevens Pass,WA',\n",
    " 'Stowe, VT','Okemo, VT','Mount Snow, VT','Mount Sunapee, NH','Wildcat Mountain, NH',\n",
    " 'Attitash Mountain, NH','Crotched Mountain, NH','Hunter Mountain, NY',\n",
    " 'Liberty Mountain Resort, PA','Roundtop Mountain Resort, PA','White tail Resort, PA',\n",
    " 'Jack frost, PA', 'Big Boulder, PA','Alpine Valley, OH','Mad River Mountain, OH',\n",
    " 'Hidden Valley, MO','Snow Creek, MO', 'Paoli Peaks, IN','Wilmot, WI','Afton Alps, MN',\n",
    " 'Mt Brighton, MI','Telluride, CO','Sun Valley, ID','Snowbasin, UT', 'Winter Park, CO',\n",
    " 'Copper Mountain, CO', 'Steamboat, CO', 'Eldora Mountain, CO', 'Palisades Tahoe, CA',\n",
    " 'Mammoth Mountain, CA', 'June Mountain, CA', 'Big Bear Mountain Resort, CA', 'Stratton, VT',\n",
    " 'Snowshoe, WV', 'Sugarbush, VT','Solitude, UT']\n",
    "\n",
    "reduced_resort_towns = ['Vail,CO','Beaver Creek,CO','Breckenridge,CO','Keystone,CO','Crested Butte,CO',\n",
    " 'Park City,UT','Heavenly, CA/NV','Northstar,CA','Kirkwood,CA','Stevens Pass,WA',\n",
    " 'Stowe, VT','Okemo, VT','Mount Snow, VT','Mount Sunapee, NH','Wildcat Mountain, NH',\n",
    " 'Attitash Mountain, NH','Crotched Mountain, NH','Hunter Mountain, NY']"
   ]
  },
  {
   "cell_type": "code",
   "execution_count": 105,
   "id": "laden-shepherd",
   "metadata": {},
   "outputs": [],
   "source": [
    "def get_resorts(resort_list):\n",
    "    base_and_key = 'http://api.worldweatheronline.com/premium/v1/ski.ashx?key=e645267bfab34ccd968203330221103&q='\n",
    "    formatt = '&format=json'; responses=[]\n",
    "    \n",
    "    for i in resort_list:\n",
    "        ## check if requesst worked or not, skip if it didn't\n",
    "        current_request = base_and_key+i+formatt\n",
    "        response = requests.get(current_request)\n",
    "        json_string = json.loads(response.text)\n",
    "        \n",
    "        if 'error' in list(json_string.get('data').keys()):\n",
    "            continue # if location isn't found, skip iteration\n",
    "            \n",
    "        #split request and weather if location is found\n",
    "        requestt = json_string.get('data').get('request')[0]\n",
    "        weatherr = json_string.get('data').get('weather')[0]\n",
    "        \n",
    "        ## request\n",
    "        query = requestt.get('query'); query_type = requestt.get('type')\n",
    "        ## split weather up to get desired keys\n",
    "        chance_of_snow = weatherr.get('chanceofsnow')\n",
    "        totalSnowFall_cm = weatherr.get('totalSnowfall_cm')\n",
    "        hourlyConditions_mid = weatherr.get('hourly')[0].get('mid')[0]\n",
    "        temp_F = hourlyConditions_mid.get('tempF')\n",
    "        weather_desc = hourlyConditions_mid.get('weatherDesc')[0].get('value')\n",
    "        windSpeed_mph = hourlyConditions_mid.get('windspeedMiles')\n",
    "        \n",
    "        \n",
    "        ## create new dict with reduced keys and values\n",
    "        keys_of_interest = ['query','query_type','weather_desc','chance_of_snow',\n",
    "          'totalsnowfall_cm','temp_f','windspeed_mph'];values_of_interest = []\n",
    "        values_of_interest.extend([query,query_type,weather_desc,chance_of_snow,\n",
    "                                    totalSnowFall_cm,temp_F,windSpeed_mph])\n",
    "        reduced_results= dict(zip(keys_of_interest, values_of_interest))\n",
    "        responses.append(reduced_results)\n",
    "        \n",
    "    return responses\n",
    "\n",
    "def for_testing(resort_list):\n",
    "    base_and_key = 'http://api.worldweatheronline.com/premium/v1/ski.ashx?key=e645267bfab34ccd968203330221103&q='\n",
    "    formatt = '&format=json'; responses=[]\n",
    "    \n",
    "    for i in resort_list:\n",
    "        #get request of current town and get get json/dict\n",
    "        current_request = base_and_key+i+formatt\n",
    "        response = requests.get(current_request)\n",
    "        json_string = json.loads(response.text)\n",
    "    responses.append(json_string)\n",
    "    return responses"
   ]
  },
  {
   "cell_type": "code",
   "execution_count": 108,
   "id": "continent-highway",
   "metadata": {},
   "outputs": [
    {
     "name": "stdout",
     "output_type": "stream",
     "text": [
      "41\n"
     ]
    },
    {
     "data": {
      "text/plain": [
       "[{'query': 'Vail,CO',\n",
       "  'query_type': 'City',\n",
       "  'weather_desc': 'Heavy snow',\n",
       "  'chance_of_snow': '47',\n",
       "  'totalsnowfall_cm': '8.3',\n",
       "  'temp_f': '18',\n",
       "  'windspeed_mph': '4'},\n",
       " {'query': 'Beaver Creek,CO',\n",
       "  'query_type': 'City',\n",
       "  'weather_desc': 'Heavy snow',\n",
       "  'chance_of_snow': '47',\n",
       "  'totalsnowfall_cm': '7.9',\n",
       "  'temp_f': '19',\n",
       "  'windspeed_mph': '4'},\n",
       " {'query': 'Breckenridge,CO',\n",
       "  'query_type': 'City',\n",
       "  'weather_desc': 'Patchy heavy snow',\n",
       "  'chance_of_snow': '61',\n",
       "  'totalsnowfall_cm': '4.2',\n",
       "  'temp_f': '13',\n",
       "  'windspeed_mph': '11'}]"
      ]
     },
     "execution_count": 108,
     "metadata": {},
     "output_type": "execute_result"
    }
   ],
   "source": [
    "#state #data #snowfall #id\n",
    "resort_responses = get_resorts(resort_towns)\n",
    "print(len(resort_responses)); resort_responses[0:3]"
   ]
  },
  {
   "cell_type": "code",
   "execution_count": null,
   "id": "prerequisite-minority",
   "metadata": {},
   "outputs": [],
   "source": [
    "####"
   ]
  },
  {
   "cell_type": "code",
   "execution_count": 56,
   "id": "designed-scheduling",
   "metadata": {},
   "outputs": [
    {
     "name": "stdout",
     "output_type": "stream",
     "text": [
      "Initial Keys:  ['request', 'weather']\n",
      "Query:  Hunter Mountain, NY    Query type:  City\n",
      "\n",
      "Keys within Weather: \n",
      " ['astronomy', 'bottom', 'chanceofsnow', 'date', 'hourly', 'mid', 'top', 'totalSnowfall_cm']\n",
      "\n",
      "Hourly Conditions mid keys: \n",
      " ['tempC', 'tempF', 'weatherCode', 'weatherDesc', 'weatherIconUrl', 'winddir16Point', 'winddirDegree', 'windspeedKmph', 'windspeedMiles']\n"
     ]
    }
   ],
   "source": [
    "testingg = for_testing(reduced_resort_towns)\n",
    "testt = testingg[0] # A single resort \n",
    "key_list = list(testt.get('data').keys()); print('Initial Keys: ', key_list) \n",
    "\n",
    "## split request up \n",
    "query = testt.get('data').get('request')[0].get('query') \n",
    "query_type = testt.get('data').get('request')[0].get('type')\n",
    "print('Query: ',query, '   Query type: ', query_type)\n",
    "\n",
    "## display weather keys\n",
    "weather_keys = list(testt.get('data').get('weather')[0].keys())\n",
    "print('\\nKeys within Weather: \\n', weather_keys)\n",
    "\n",
    "## split weather up to get desired keys\n",
    "chance_of_snow = testt.get('data').get('weather')[0].get('chanceofsnow')\n",
    "totalSnowFall_cm = testt.get('data').get('weather')[0].get('totalSnowfall_cm')\n",
    "hourlyConditions_mid = testt.get('data').get('weather')[0].get('hourly')[0].get('mid')[0]\n",
    "print('\\nHourly Conditions mid keys: \\n', list(hourlyConditions_mid.keys()))\n",
    "temp_F = hourlyConditions_mid.get('tempF')\n",
    "weather_desc = hourlyConditions_mid.get('weatherDesc')[0].get('value')\n",
    "windSpeed_mph = hourlyConditions_mid.get('windspeedMiles')"
   ]
  },
  {
   "cell_type": "code",
   "execution_count": 57,
   "id": "attractive-america",
   "metadata": {},
   "outputs": [
    {
     "data": {
      "text/plain": [
       "{'query': 'Hunter Mountain, NY',\n",
       " 'query_type': 'City',\n",
       " 'weather_desc': 'Clear',\n",
       " 'chance_of_snow': '0',\n",
       " 'totalsnowfall_cm': '0.9',\n",
       " 'temp_f': '42',\n",
       " 'windspeed_mph': '11'}"
      ]
     },
     "execution_count": 57,
     "metadata": {},
     "output_type": "execute_result"
    }
   ],
   "source": [
    "## create new dict with reduced keys and values\n",
    "keys_of_interest = ['query','query_type','weather_desc','chance_of_snow',\n",
    " 'totalsnowfall_cm','temp_f','windspeed_mph'];values_of_interest = []\n",
    "\n",
    "values_of_interest.extend([query,query_type,weather_desc,chance_of_snow,\n",
    "                           totalSnowFall_cm,temp_F,windSpeed_mph])\n",
    "\n",
    "reduced_results= dict(zip(keys_of_interest, values_of_interest))\n",
    "reduced_results"
   ]
  },
  {
   "cell_type": "code",
   "execution_count": 58,
   "id": "genuine-iraqi",
   "metadata": {},
   "outputs": [
    {
     "data": {
      "text/plain": [
       "'113'"
      ]
     },
     "execution_count": 58,
     "metadata": {},
     "output_type": "execute_result"
    }
   ],
   "source": [
    "## could get weatherCode and use that as an ID\n",
    "ID_ = hourlyConditions_mid.get('weatherCode'); ID_"
   ]
  },
  {
   "cell_type": "code",
   "execution_count": 59,
   "id": "caring-gazette",
   "metadata": {},
   "outputs": [],
   "source": [
    "#####"
   ]
  },
  {
   "cell_type": "code",
   "execution_count": 109,
   "id": "martial-apparel",
   "metadata": {},
   "outputs": [],
   "source": [
    "###writing out reduced dictionaries\n",
    "\n",
    "with open('resort_reponses.json', 'w') as f:\n",
    "    json.dump(resort_responses, f)"
   ]
  },
  {
   "cell_type": "code",
   "execution_count": null,
   "id": "productive-hotel",
   "metadata": {},
   "outputs": [],
   "source": []
  }
 ],
 "metadata": {
  "kernelspec": {
   "display_name": "Python 3",
   "language": "python",
   "name": "python3"
  },
  "language_info": {
   "codemirror_mode": {
    "name": "ipython",
    "version": 3
   },
   "file_extension": ".py",
   "mimetype": "text/x-python",
   "name": "python",
   "nbconvert_exporter": "python",
   "pygments_lexer": "ipython3",
   "version": "3.8.4"
  }
 },
 "nbformat": 4,
 "nbformat_minor": 5
}
